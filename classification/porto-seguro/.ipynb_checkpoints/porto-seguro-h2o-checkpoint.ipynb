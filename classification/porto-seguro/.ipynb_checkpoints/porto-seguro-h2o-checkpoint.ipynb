{
 "cells": [
  {
   "cell_type": "code",
   "execution_count": 1,
   "metadata": {},
   "outputs": [],
   "source": [
    "#!pip install h2o\n",
    "import pandas as pd\n",
    "import h2o\n",
    "from h2o.automl import H2OAutoML\n",
    "from benchmark_utils import timer\n"
   ]
  },
  {
   "cell_type": "code",
   "execution_count": 2,
   "metadata": {},
   "outputs": [
    {
     "name": "stdout",
     "output_type": "stream",
     "text": [
      "Checking whether there is an H2O instance running at http://localhost:54321 ..... not found.\n",
      "Attempting to start a local H2O server...\n",
      "  Java Version: openjdk version \"1.8.0_152-release\"; OpenJDK Runtime Environment (build 1.8.0_152-release-1056-b12); OpenJDK 64-Bit Server VM (build 25.152-b12, mixed mode)\n",
      "  Starting server from /home/midas/anaconda3/envs/automl-3.7/lib/python3.7/site-packages/h2o/backend/bin/h2o.jar\n",
      "  Ice root: /tmp/tmp871g6j8i\n",
      "  JVM stdout: /tmp/tmp871g6j8i/h2o_midas_started_from_python.out\n",
      "  JVM stderr: /tmp/tmp871g6j8i/h2o_midas_started_from_python.err\n",
      "  Server is running at http://127.0.0.1:54321\n",
      "Connecting to H2O server at http://127.0.0.1:54321 ... successful.\n"
     ]
    },
    {
     "data": {
      "text/html": [
       "<div style=\"overflow:auto\"><table style=\"width:50%\"><tr><td>H2O cluster uptime:</td>\n",
       "<td>01 secs</td></tr>\n",
       "<tr><td>H2O cluster timezone:</td>\n",
       "<td>Etc/UTC</td></tr>\n",
       "<tr><td>H2O data parsing timezone:</td>\n",
       "<td>UTC</td></tr>\n",
       "<tr><td>H2O cluster version:</td>\n",
       "<td>3.26.0.5</td></tr>\n",
       "<tr><td>H2O cluster version age:</td>\n",
       "<td>1 month and 15 days </td></tr>\n",
       "<tr><td>H2O cluster name:</td>\n",
       "<td>H2O_from_python_midas_vwmyeg</td></tr>\n",
       "<tr><td>H2O cluster total nodes:</td>\n",
       "<td>1</td></tr>\n",
       "<tr><td>H2O cluster free memory:</td>\n",
       "<td>26.67 Gb</td></tr>\n",
       "<tr><td>H2O cluster total cores:</td>\n",
       "<td>20</td></tr>\n",
       "<tr><td>H2O cluster allowed cores:</td>\n",
       "<td>20</td></tr>\n",
       "<tr><td>H2O cluster status:</td>\n",
       "<td>accepting new members, healthy</td></tr>\n",
       "<tr><td>H2O connection url:</td>\n",
       "<td>http://127.0.0.1:54321</td></tr>\n",
       "<tr><td>H2O connection proxy:</td>\n",
       "<td>None</td></tr>\n",
       "<tr><td>H2O internal security:</td>\n",
       "<td>False</td></tr>\n",
       "<tr><td>H2O API Extensions:</td>\n",
       "<td>Amazon S3, XGBoost, Algos, AutoML, Core V3, TargetEncoder, Core V4</td></tr>\n",
       "<tr><td>Python version:</td>\n",
       "<td>3.7.4 final</td></tr></table></div>"
      ],
      "text/plain": [
       "--------------------------  ------------------------------------------------------------------\n",
       "H2O cluster uptime:         01 secs\n",
       "H2O cluster timezone:       Etc/UTC\n",
       "H2O data parsing timezone:  UTC\n",
       "H2O cluster version:        3.26.0.5\n",
       "H2O cluster version age:    1 month and 15 days\n",
       "H2O cluster name:           H2O_from_python_midas_vwmyeg\n",
       "H2O cluster total nodes:    1\n",
       "H2O cluster free memory:    26.67 Gb\n",
       "H2O cluster total cores:    20\n",
       "H2O cluster allowed cores:  20\n",
       "H2O cluster status:         accepting new members, healthy\n",
       "H2O connection url:         http://127.0.0.1:54321\n",
       "H2O connection proxy:\n",
       "H2O internal security:      False\n",
       "H2O API Extensions:         Amazon S3, XGBoost, Algos, AutoML, Core V3, TargetEncoder, Core V4\n",
       "Python version:             3.7.4 final\n",
       "--------------------------  ------------------------------------------------------------------"
      ]
     },
     "metadata": {},
     "output_type": "display_data"
    },
    {
     "name": "stdout",
     "output_type": "stream",
     "text": [
      "Parse progress: |█████████████████████████████████████████████████████████| 100%\n",
      "Parse progress: |█████████████████████████████████████████████████████████| 100%\n"
     ]
    }
   ],
   "source": [
    "h2o.init()\n",
    "X_train = h2o.import_file('../datasets/porto-seguro/train.csv',header=1)\n",
    "X_test = h2o.import_file('../datasets/porto-seguro/test.csv',header=1)"
   ]
  },
  {
   "cell_type": "code",
   "execution_count": 3,
   "metadata": {},
   "outputs": [
    {
     "data": {
      "text/html": [
       "<table>\n",
       "<thead>\n",
       "<tr><th style=\"text-align: right;\">  id</th><th style=\"text-align: right;\">  target</th><th style=\"text-align: right;\">  ps_ind_01</th><th style=\"text-align: right;\">  ps_ind_02_cat</th><th style=\"text-align: right;\">  ps_ind_03</th><th style=\"text-align: right;\">  ps_ind_04_cat</th><th style=\"text-align: right;\">  ps_ind_05_cat</th><th style=\"text-align: right;\">  ps_ind_06_bin</th><th style=\"text-align: right;\">  ps_ind_07_bin</th><th style=\"text-align: right;\">  ps_ind_08_bin</th><th style=\"text-align: right;\">  ps_ind_09_bin</th><th style=\"text-align: right;\">  ps_ind_10_bin</th><th style=\"text-align: right;\">  ps_ind_11_bin</th><th style=\"text-align: right;\">  ps_ind_12_bin</th><th style=\"text-align: right;\">  ps_ind_13_bin</th><th style=\"text-align: right;\">  ps_ind_14</th><th style=\"text-align: right;\">  ps_ind_15</th><th style=\"text-align: right;\">  ps_ind_16_bin</th><th style=\"text-align: right;\">  ps_ind_17_bin</th><th style=\"text-align: right;\">  ps_ind_18_bin</th><th style=\"text-align: right;\">  ps_reg_01</th><th style=\"text-align: right;\">  ps_reg_02</th><th style=\"text-align: right;\">  ps_reg_03</th><th style=\"text-align: right;\">  ps_car_01_cat</th><th style=\"text-align: right;\">  ps_car_02_cat</th><th style=\"text-align: right;\">  ps_car_03_cat</th><th style=\"text-align: right;\">  ps_car_04_cat</th><th style=\"text-align: right;\">  ps_car_05_cat</th><th style=\"text-align: right;\">  ps_car_06_cat</th><th style=\"text-align: right;\">  ps_car_07_cat</th><th style=\"text-align: right;\">  ps_car_08_cat</th><th style=\"text-align: right;\">  ps_car_09_cat</th><th style=\"text-align: right;\">  ps_car_10_cat</th><th style=\"text-align: right;\">  ps_car_11_cat</th><th style=\"text-align: right;\">  ps_car_11</th><th style=\"text-align: right;\">  ps_car_12</th><th style=\"text-align: right;\">  ps_car_13</th><th style=\"text-align: right;\">  ps_car_14</th><th style=\"text-align: right;\">  ps_car_15</th><th style=\"text-align: right;\">  ps_calc_01</th><th style=\"text-align: right;\">  ps_calc_02</th><th style=\"text-align: right;\">  ps_calc_03</th><th style=\"text-align: right;\">  ps_calc_04</th><th style=\"text-align: right;\">  ps_calc_05</th><th style=\"text-align: right;\">  ps_calc_06</th><th style=\"text-align: right;\">  ps_calc_07</th><th style=\"text-align: right;\">  ps_calc_08</th><th style=\"text-align: right;\">  ps_calc_09</th><th style=\"text-align: right;\">  ps_calc_10</th><th style=\"text-align: right;\">  ps_calc_11</th><th style=\"text-align: right;\">  ps_calc_12</th><th style=\"text-align: right;\">  ps_calc_13</th><th style=\"text-align: right;\">  ps_calc_14</th><th style=\"text-align: right;\">  ps_calc_15_bin</th><th style=\"text-align: right;\">  ps_calc_16_bin</th><th style=\"text-align: right;\">  ps_calc_17_bin</th><th style=\"text-align: right;\">  ps_calc_18_bin</th><th style=\"text-align: right;\">  ps_calc_19_bin</th><th style=\"text-align: right;\">  ps_calc_20_bin</th></tr>\n",
       "</thead>\n",
       "<tbody>\n",
       "<tr><td style=\"text-align: right;\">   7</td><td style=\"text-align: right;\">       0</td><td style=\"text-align: right;\">          2</td><td style=\"text-align: right;\">              2</td><td style=\"text-align: right;\">          5</td><td style=\"text-align: right;\">              1</td><td style=\"text-align: right;\">              0</td><td style=\"text-align: right;\">              0</td><td style=\"text-align: right;\">              1</td><td style=\"text-align: right;\">              0</td><td style=\"text-align: right;\">              0</td><td style=\"text-align: right;\">              0</td><td style=\"text-align: right;\">              0</td><td style=\"text-align: right;\">              0</td><td style=\"text-align: right;\">              0</td><td style=\"text-align: right;\">          0</td><td style=\"text-align: right;\">         11</td><td style=\"text-align: right;\">              0</td><td style=\"text-align: right;\">              1</td><td style=\"text-align: right;\">              0</td><td style=\"text-align: right;\">        0.7</td><td style=\"text-align: right;\">        0.2</td><td style=\"text-align: right;\">   0.71807 </td><td style=\"text-align: right;\">             10</td><td style=\"text-align: right;\">              1</td><td style=\"text-align: right;\">             -1</td><td style=\"text-align: right;\">              0</td><td style=\"text-align: right;\">              1</td><td style=\"text-align: right;\">              4</td><td style=\"text-align: right;\">              1</td><td style=\"text-align: right;\">              0</td><td style=\"text-align: right;\">              0</td><td style=\"text-align: right;\">              1</td><td style=\"text-align: right;\">             12</td><td style=\"text-align: right;\">          2</td><td style=\"text-align: right;\">   0.4     </td><td style=\"text-align: right;\">   0.883679</td><td style=\"text-align: right;\">   0.37081 </td><td style=\"text-align: right;\">    3.60555</td><td style=\"text-align: right;\">         0.6</td><td style=\"text-align: right;\">         0.5</td><td style=\"text-align: right;\">         0.2</td><td style=\"text-align: right;\">           3</td><td style=\"text-align: right;\">           1</td><td style=\"text-align: right;\">          10</td><td style=\"text-align: right;\">           1</td><td style=\"text-align: right;\">          10</td><td style=\"text-align: right;\">           1</td><td style=\"text-align: right;\">           5</td><td style=\"text-align: right;\">           9</td><td style=\"text-align: right;\">           1</td><td style=\"text-align: right;\">           5</td><td style=\"text-align: right;\">           8</td><td style=\"text-align: right;\">               0</td><td style=\"text-align: right;\">               1</td><td style=\"text-align: right;\">               1</td><td style=\"text-align: right;\">               0</td><td style=\"text-align: right;\">               0</td><td style=\"text-align: right;\">               1</td></tr>\n",
       "<tr><td style=\"text-align: right;\">   9</td><td style=\"text-align: right;\">       0</td><td style=\"text-align: right;\">          1</td><td style=\"text-align: right;\">              1</td><td style=\"text-align: right;\">          7</td><td style=\"text-align: right;\">              0</td><td style=\"text-align: right;\">              0</td><td style=\"text-align: right;\">              0</td><td style=\"text-align: right;\">              0</td><td style=\"text-align: right;\">              1</td><td style=\"text-align: right;\">              0</td><td style=\"text-align: right;\">              0</td><td style=\"text-align: right;\">              0</td><td style=\"text-align: right;\">              0</td><td style=\"text-align: right;\">              0</td><td style=\"text-align: right;\">          0</td><td style=\"text-align: right;\">          3</td><td style=\"text-align: right;\">              0</td><td style=\"text-align: right;\">              0</td><td style=\"text-align: right;\">              1</td><td style=\"text-align: right;\">        0.8</td><td style=\"text-align: right;\">        0.4</td><td style=\"text-align: right;\">   0.766078</td><td style=\"text-align: right;\">             11</td><td style=\"text-align: right;\">              1</td><td style=\"text-align: right;\">             -1</td><td style=\"text-align: right;\">              0</td><td style=\"text-align: right;\">             -1</td><td style=\"text-align: right;\">             11</td><td style=\"text-align: right;\">              1</td><td style=\"text-align: right;\">              1</td><td style=\"text-align: right;\">              2</td><td style=\"text-align: right;\">              1</td><td style=\"text-align: right;\">             19</td><td style=\"text-align: right;\">          3</td><td style=\"text-align: right;\">   0.316228</td><td style=\"text-align: right;\">   0.618817</td><td style=\"text-align: right;\">   0.388716</td><td style=\"text-align: right;\">    2.44949</td><td style=\"text-align: right;\">         0.3</td><td style=\"text-align: right;\">         0.1</td><td style=\"text-align: right;\">         0.3</td><td style=\"text-align: right;\">           2</td><td style=\"text-align: right;\">           1</td><td style=\"text-align: right;\">           9</td><td style=\"text-align: right;\">           5</td><td style=\"text-align: right;\">           8</td><td style=\"text-align: right;\">           1</td><td style=\"text-align: right;\">           7</td><td style=\"text-align: right;\">           3</td><td style=\"text-align: right;\">           1</td><td style=\"text-align: right;\">           1</td><td style=\"text-align: right;\">           9</td><td style=\"text-align: right;\">               0</td><td style=\"text-align: right;\">               1</td><td style=\"text-align: right;\">               1</td><td style=\"text-align: right;\">               0</td><td style=\"text-align: right;\">               1</td><td style=\"text-align: right;\">               0</td></tr>\n",
       "<tr><td style=\"text-align: right;\">  13</td><td style=\"text-align: right;\">       0</td><td style=\"text-align: right;\">          5</td><td style=\"text-align: right;\">              4</td><td style=\"text-align: right;\">          9</td><td style=\"text-align: right;\">              1</td><td style=\"text-align: right;\">              0</td><td style=\"text-align: right;\">              0</td><td style=\"text-align: right;\">              0</td><td style=\"text-align: right;\">              1</td><td style=\"text-align: right;\">              0</td><td style=\"text-align: right;\">              0</td><td style=\"text-align: right;\">              0</td><td style=\"text-align: right;\">              0</td><td style=\"text-align: right;\">              0</td><td style=\"text-align: right;\">          0</td><td style=\"text-align: right;\">         12</td><td style=\"text-align: right;\">              1</td><td style=\"text-align: right;\">              0</td><td style=\"text-align: right;\">              0</td><td style=\"text-align: right;\">        0  </td><td style=\"text-align: right;\">        0  </td><td style=\"text-align: right;\">  -1       </td><td style=\"text-align: right;\">              7</td><td style=\"text-align: right;\">              1</td><td style=\"text-align: right;\">             -1</td><td style=\"text-align: right;\">              0</td><td style=\"text-align: right;\">             -1</td><td style=\"text-align: right;\">             14</td><td style=\"text-align: right;\">              1</td><td style=\"text-align: right;\">              1</td><td style=\"text-align: right;\">              2</td><td style=\"text-align: right;\">              1</td><td style=\"text-align: right;\">             60</td><td style=\"text-align: right;\">          1</td><td style=\"text-align: right;\">   0.316228</td><td style=\"text-align: right;\">   0.641586</td><td style=\"text-align: right;\">   0.347275</td><td style=\"text-align: right;\">    3.31662</td><td style=\"text-align: right;\">         0.5</td><td style=\"text-align: right;\">         0.7</td><td style=\"text-align: right;\">         0.1</td><td style=\"text-align: right;\">           2</td><td style=\"text-align: right;\">           2</td><td style=\"text-align: right;\">           9</td><td style=\"text-align: right;\">           1</td><td style=\"text-align: right;\">           8</td><td style=\"text-align: right;\">           2</td><td style=\"text-align: right;\">           7</td><td style=\"text-align: right;\">           4</td><td style=\"text-align: right;\">           2</td><td style=\"text-align: right;\">           7</td><td style=\"text-align: right;\">           7</td><td style=\"text-align: right;\">               0</td><td style=\"text-align: right;\">               1</td><td style=\"text-align: right;\">               1</td><td style=\"text-align: right;\">               0</td><td style=\"text-align: right;\">               1</td><td style=\"text-align: right;\">               0</td></tr>\n",
       "<tr><td style=\"text-align: right;\">  16</td><td style=\"text-align: right;\">       0</td><td style=\"text-align: right;\">          0</td><td style=\"text-align: right;\">              1</td><td style=\"text-align: right;\">          2</td><td style=\"text-align: right;\">              0</td><td style=\"text-align: right;\">              0</td><td style=\"text-align: right;\">              1</td><td style=\"text-align: right;\">              0</td><td style=\"text-align: right;\">              0</td><td style=\"text-align: right;\">              0</td><td style=\"text-align: right;\">              0</td><td style=\"text-align: right;\">              0</td><td style=\"text-align: right;\">              0</td><td style=\"text-align: right;\">              0</td><td style=\"text-align: right;\">          0</td><td style=\"text-align: right;\">          8</td><td style=\"text-align: right;\">              1</td><td style=\"text-align: right;\">              0</td><td style=\"text-align: right;\">              0</td><td style=\"text-align: right;\">        0.9</td><td style=\"text-align: right;\">        0.2</td><td style=\"text-align: right;\">   0.580948</td><td style=\"text-align: right;\">              7</td><td style=\"text-align: right;\">              1</td><td style=\"text-align: right;\">              0</td><td style=\"text-align: right;\">              0</td><td style=\"text-align: right;\">              1</td><td style=\"text-align: right;\">             11</td><td style=\"text-align: right;\">              1</td><td style=\"text-align: right;\">              1</td><td style=\"text-align: right;\">              3</td><td style=\"text-align: right;\">              1</td><td style=\"text-align: right;\">            104</td><td style=\"text-align: right;\">          1</td><td style=\"text-align: right;\">   0.374166</td><td style=\"text-align: right;\">   0.542949</td><td style=\"text-align: right;\">   0.294958</td><td style=\"text-align: right;\">    2      </td><td style=\"text-align: right;\">         0.6</td><td style=\"text-align: right;\">         0.9</td><td style=\"text-align: right;\">         0.1</td><td style=\"text-align: right;\">           2</td><td style=\"text-align: right;\">           4</td><td style=\"text-align: right;\">           7</td><td style=\"text-align: right;\">           1</td><td style=\"text-align: right;\">           8</td><td style=\"text-align: right;\">           4</td><td style=\"text-align: right;\">           2</td><td style=\"text-align: right;\">           2</td><td style=\"text-align: right;\">           2</td><td style=\"text-align: right;\">           4</td><td style=\"text-align: right;\">           9</td><td style=\"text-align: right;\">               0</td><td style=\"text-align: right;\">               0</td><td style=\"text-align: right;\">               0</td><td style=\"text-align: right;\">               0</td><td style=\"text-align: right;\">               0</td><td style=\"text-align: right;\">               0</td></tr>\n",
       "<tr><td style=\"text-align: right;\">  17</td><td style=\"text-align: right;\">       0</td><td style=\"text-align: right;\">          0</td><td style=\"text-align: right;\">              2</td><td style=\"text-align: right;\">          0</td><td style=\"text-align: right;\">              1</td><td style=\"text-align: right;\">              0</td><td style=\"text-align: right;\">              1</td><td style=\"text-align: right;\">              0</td><td style=\"text-align: right;\">              0</td><td style=\"text-align: right;\">              0</td><td style=\"text-align: right;\">              0</td><td style=\"text-align: right;\">              0</td><td style=\"text-align: right;\">              0</td><td style=\"text-align: right;\">              0</td><td style=\"text-align: right;\">          0</td><td style=\"text-align: right;\">          9</td><td style=\"text-align: right;\">              1</td><td style=\"text-align: right;\">              0</td><td style=\"text-align: right;\">              0</td><td style=\"text-align: right;\">        0.7</td><td style=\"text-align: right;\">        0.6</td><td style=\"text-align: right;\">   0.840759</td><td style=\"text-align: right;\">             11</td><td style=\"text-align: right;\">              1</td><td style=\"text-align: right;\">             -1</td><td style=\"text-align: right;\">              0</td><td style=\"text-align: right;\">             -1</td><td style=\"text-align: right;\">             14</td><td style=\"text-align: right;\">              1</td><td style=\"text-align: right;\">              1</td><td style=\"text-align: right;\">              2</td><td style=\"text-align: right;\">              1</td><td style=\"text-align: right;\">             82</td><td style=\"text-align: right;\">          3</td><td style=\"text-align: right;\">   0.31607 </td><td style=\"text-align: right;\">   0.565832</td><td style=\"text-align: right;\">   0.365103</td><td style=\"text-align: right;\">    2      </td><td style=\"text-align: right;\">         0.4</td><td style=\"text-align: right;\">         0.6</td><td style=\"text-align: right;\">         0  </td><td style=\"text-align: right;\">           2</td><td style=\"text-align: right;\">           2</td><td style=\"text-align: right;\">           6</td><td style=\"text-align: right;\">           3</td><td style=\"text-align: right;\">          10</td><td style=\"text-align: right;\">           2</td><td style=\"text-align: right;\">          12</td><td style=\"text-align: right;\">           3</td><td style=\"text-align: right;\">           1</td><td style=\"text-align: right;\">           1</td><td style=\"text-align: right;\">           3</td><td style=\"text-align: right;\">               0</td><td style=\"text-align: right;\">               0</td><td style=\"text-align: right;\">               0</td><td style=\"text-align: right;\">               1</td><td style=\"text-align: right;\">               1</td><td style=\"text-align: right;\">               0</td></tr>\n",
       "<tr><td style=\"text-align: right;\">  19</td><td style=\"text-align: right;\">       0</td><td style=\"text-align: right;\">          5</td><td style=\"text-align: right;\">              1</td><td style=\"text-align: right;\">          4</td><td style=\"text-align: right;\">              0</td><td style=\"text-align: right;\">              0</td><td style=\"text-align: right;\">              0</td><td style=\"text-align: right;\">              0</td><td style=\"text-align: right;\">              0</td><td style=\"text-align: right;\">              1</td><td style=\"text-align: right;\">              0</td><td style=\"text-align: right;\">              0</td><td style=\"text-align: right;\">              0</td><td style=\"text-align: right;\">              0</td><td style=\"text-align: right;\">          0</td><td style=\"text-align: right;\">          6</td><td style=\"text-align: right;\">              1</td><td style=\"text-align: right;\">              0</td><td style=\"text-align: right;\">              0</td><td style=\"text-align: right;\">        0.9</td><td style=\"text-align: right;\">        1.8</td><td style=\"text-align: right;\">   2.33265 </td><td style=\"text-align: right;\">             10</td><td style=\"text-align: right;\">              0</td><td style=\"text-align: right;\">             -1</td><td style=\"text-align: right;\">              0</td><td style=\"text-align: right;\">              0</td><td style=\"text-align: right;\">             14</td><td style=\"text-align: right;\">              1</td><td style=\"text-align: right;\">              1</td><td style=\"text-align: right;\">              0</td><td style=\"text-align: right;\">              1</td><td style=\"text-align: right;\">            104</td><td style=\"text-align: right;\">          2</td><td style=\"text-align: right;\">   0.445982</td><td style=\"text-align: right;\">   0.879049</td><td style=\"text-align: right;\">   0.406202</td><td style=\"text-align: right;\">    3      </td><td style=\"text-align: right;\">         0.7</td><td style=\"text-align: right;\">         0.8</td><td style=\"text-align: right;\">         0.4</td><td style=\"text-align: right;\">           3</td><td style=\"text-align: right;\">           1</td><td style=\"text-align: right;\">           8</td><td style=\"text-align: right;\">           2</td><td style=\"text-align: right;\">          11</td><td style=\"text-align: right;\">           3</td><td style=\"text-align: right;\">           8</td><td style=\"text-align: right;\">           4</td><td style=\"text-align: right;\">           2</td><td style=\"text-align: right;\">           0</td><td style=\"text-align: right;\">           9</td><td style=\"text-align: right;\">               0</td><td style=\"text-align: right;\">               1</td><td style=\"text-align: right;\">               0</td><td style=\"text-align: right;\">               1</td><td style=\"text-align: right;\">               1</td><td style=\"text-align: right;\">               1</td></tr>\n",
       "<tr><td style=\"text-align: right;\">  20</td><td style=\"text-align: right;\">       0</td><td style=\"text-align: right;\">          2</td><td style=\"text-align: right;\">              1</td><td style=\"text-align: right;\">          3</td><td style=\"text-align: right;\">              1</td><td style=\"text-align: right;\">              0</td><td style=\"text-align: right;\">              0</td><td style=\"text-align: right;\">              1</td><td style=\"text-align: right;\">              0</td><td style=\"text-align: right;\">              0</td><td style=\"text-align: right;\">              0</td><td style=\"text-align: right;\">              0</td><td style=\"text-align: right;\">              0</td><td style=\"text-align: right;\">              0</td><td style=\"text-align: right;\">          0</td><td style=\"text-align: right;\">          8</td><td style=\"text-align: right;\">              1</td><td style=\"text-align: right;\">              0</td><td style=\"text-align: right;\">              0</td><td style=\"text-align: right;\">        0.6</td><td style=\"text-align: right;\">        0.1</td><td style=\"text-align: right;\">   0.617454</td><td style=\"text-align: right;\">              6</td><td style=\"text-align: right;\">              1</td><td style=\"text-align: right;\">             -1</td><td style=\"text-align: right;\">              0</td><td style=\"text-align: right;\">              1</td><td style=\"text-align: right;\">             11</td><td style=\"text-align: right;\">              1</td><td style=\"text-align: right;\">              1</td><td style=\"text-align: right;\">              0</td><td style=\"text-align: right;\">              1</td><td style=\"text-align: right;\">             99</td><td style=\"text-align: right;\">          2</td><td style=\"text-align: right;\">   0.316228</td><td style=\"text-align: right;\">   0.639683</td><td style=\"text-align: right;\">   0.368782</td><td style=\"text-align: right;\">    3.16228</td><td style=\"text-align: right;\">         0.2</td><td style=\"text-align: right;\">         0.6</td><td style=\"text-align: right;\">         0.5</td><td style=\"text-align: right;\">           2</td><td style=\"text-align: right;\">           2</td><td style=\"text-align: right;\">           8</td><td style=\"text-align: right;\">           1</td><td style=\"text-align: right;\">           8</td><td style=\"text-align: right;\">           3</td><td style=\"text-align: right;\">          10</td><td style=\"text-align: right;\">           3</td><td style=\"text-align: right;\">           0</td><td style=\"text-align: right;\">           0</td><td style=\"text-align: right;\">          10</td><td style=\"text-align: right;\">               0</td><td style=\"text-align: right;\">               1</td><td style=\"text-align: right;\">               0</td><td style=\"text-align: right;\">               0</td><td style=\"text-align: right;\">               1</td><td style=\"text-align: right;\">               0</td></tr>\n",
       "<tr><td style=\"text-align: right;\">  22</td><td style=\"text-align: right;\">       0</td><td style=\"text-align: right;\">          5</td><td style=\"text-align: right;\">              1</td><td style=\"text-align: right;\">          4</td><td style=\"text-align: right;\">              0</td><td style=\"text-align: right;\">              0</td><td style=\"text-align: right;\">              1</td><td style=\"text-align: right;\">              0</td><td style=\"text-align: right;\">              0</td><td style=\"text-align: right;\">              0</td><td style=\"text-align: right;\">              0</td><td style=\"text-align: right;\">              0</td><td style=\"text-align: right;\">              0</td><td style=\"text-align: right;\">              0</td><td style=\"text-align: right;\">          0</td><td style=\"text-align: right;\">         13</td><td style=\"text-align: right;\">              1</td><td style=\"text-align: right;\">              0</td><td style=\"text-align: right;\">              0</td><td style=\"text-align: right;\">        0.7</td><td style=\"text-align: right;\">        0.4</td><td style=\"text-align: right;\">   0.607248</td><td style=\"text-align: right;\">             11</td><td style=\"text-align: right;\">              1</td><td style=\"text-align: right;\">              0</td><td style=\"text-align: right;\">              0</td><td style=\"text-align: right;\">              0</td><td style=\"text-align: right;\">             11</td><td style=\"text-align: right;\">              1</td><td style=\"text-align: right;\">              1</td><td style=\"text-align: right;\">              2</td><td style=\"text-align: right;\">              1</td><td style=\"text-align: right;\">             30</td><td style=\"text-align: right;\">          3</td><td style=\"text-align: right;\">   0.44699 </td><td style=\"text-align: right;\">   0.900574</td><td style=\"text-align: right;\">   0.374833</td><td style=\"text-align: right;\">    3.31662</td><td style=\"text-align: right;\">         0.1</td><td style=\"text-align: right;\">         0.5</td><td style=\"text-align: right;\">         0.1</td><td style=\"text-align: right;\">           1</td><td style=\"text-align: right;\">           2</td><td style=\"text-align: right;\">           7</td><td style=\"text-align: right;\">           1</td><td style=\"text-align: right;\">           6</td><td style=\"text-align: right;\">           1</td><td style=\"text-align: right;\">          13</td><td style=\"text-align: right;\">           7</td><td style=\"text-align: right;\">           1</td><td style=\"text-align: right;\">           3</td><td style=\"text-align: right;\">           6</td><td style=\"text-align: right;\">               1</td><td style=\"text-align: right;\">               0</td><td style=\"text-align: right;\">               1</td><td style=\"text-align: right;\">               0</td><td style=\"text-align: right;\">               1</td><td style=\"text-align: right;\">               0</td></tr>\n",
       "<tr><td style=\"text-align: right;\">  26</td><td style=\"text-align: right;\">       0</td><td style=\"text-align: right;\">          5</td><td style=\"text-align: right;\">              1</td><td style=\"text-align: right;\">          3</td><td style=\"text-align: right;\">              1</td><td style=\"text-align: right;\">              0</td><td style=\"text-align: right;\">              0</td><td style=\"text-align: right;\">              0</td><td style=\"text-align: right;\">              1</td><td style=\"text-align: right;\">              0</td><td style=\"text-align: right;\">              0</td><td style=\"text-align: right;\">              0</td><td style=\"text-align: right;\">              0</td><td style=\"text-align: right;\">              0</td><td style=\"text-align: right;\">          0</td><td style=\"text-align: right;\">          6</td><td style=\"text-align: right;\">              1</td><td style=\"text-align: right;\">              0</td><td style=\"text-align: right;\">              0</td><td style=\"text-align: right;\">        0.9</td><td style=\"text-align: right;\">        0.7</td><td style=\"text-align: right;\">   0.901388</td><td style=\"text-align: right;\">             10</td><td style=\"text-align: right;\">              1</td><td style=\"text-align: right;\">             -1</td><td style=\"text-align: right;\">              0</td><td style=\"text-align: right;\">              1</td><td style=\"text-align: right;\">             14</td><td style=\"text-align: right;\">              1</td><td style=\"text-align: right;\">              1</td><td style=\"text-align: right;\">              0</td><td style=\"text-align: right;\">              1</td><td style=\"text-align: right;\">             68</td><td style=\"text-align: right;\">          3</td><td style=\"text-align: right;\">   0.4     </td><td style=\"text-align: right;\">   0.780641</td><td style=\"text-align: right;\">   0.407431</td><td style=\"text-align: right;\">    2.82843</td><td style=\"text-align: right;\">         0.9</td><td style=\"text-align: right;\">         0.8</td><td style=\"text-align: right;\">         0.6</td><td style=\"text-align: right;\">           3</td><td style=\"text-align: right;\">           1</td><td style=\"text-align: right;\">           7</td><td style=\"text-align: right;\">           3</td><td style=\"text-align: right;\">           9</td><td style=\"text-align: right;\">           4</td><td style=\"text-align: right;\">          11</td><td style=\"text-align: right;\">           4</td><td style=\"text-align: right;\">           2</td><td style=\"text-align: right;\">           1</td><td style=\"text-align: right;\">           5</td><td style=\"text-align: right;\">               0</td><td style=\"text-align: right;\">               1</td><td style=\"text-align: right;\">               0</td><td style=\"text-align: right;\">               0</td><td style=\"text-align: right;\">               0</td><td style=\"text-align: right;\">               1</td></tr>\n",
       "<tr><td style=\"text-align: right;\">  28</td><td style=\"text-align: right;\">       1</td><td style=\"text-align: right;\">          1</td><td style=\"text-align: right;\">              1</td><td style=\"text-align: right;\">          2</td><td style=\"text-align: right;\">              0</td><td style=\"text-align: right;\">              0</td><td style=\"text-align: right;\">              0</td><td style=\"text-align: right;\">              1</td><td style=\"text-align: right;\">              0</td><td style=\"text-align: right;\">              0</td><td style=\"text-align: right;\">              0</td><td style=\"text-align: right;\">              0</td><td style=\"text-align: right;\">              0</td><td style=\"text-align: right;\">              0</td><td style=\"text-align: right;\">          0</td><td style=\"text-align: right;\">          4</td><td style=\"text-align: right;\">              0</td><td style=\"text-align: right;\">              0</td><td style=\"text-align: right;\">              1</td><td style=\"text-align: right;\">        0.9</td><td style=\"text-align: right;\">        1.4</td><td style=\"text-align: right;\">   2.31665 </td><td style=\"text-align: right;\">             11</td><td style=\"text-align: right;\">              0</td><td style=\"text-align: right;\">              0</td><td style=\"text-align: right;\">              1</td><td style=\"text-align: right;\">              0</td><td style=\"text-align: right;\">             14</td><td style=\"text-align: right;\">              1</td><td style=\"text-align: right;\">              1</td><td style=\"text-align: right;\">              2</td><td style=\"text-align: right;\">              1</td><td style=\"text-align: right;\">            104</td><td style=\"text-align: right;\">          2</td><td style=\"text-align: right;\">   0.447214</td><td style=\"text-align: right;\">   1.45818 </td><td style=\"text-align: right;\">   0.390256</td><td style=\"text-align: right;\">    3.60555</td><td style=\"text-align: right;\">         0.7</td><td style=\"text-align: right;\">         0.8</td><td style=\"text-align: right;\">         0.8</td><td style=\"text-align: right;\">           2</td><td style=\"text-align: right;\">           2</td><td style=\"text-align: right;\">           8</td><td style=\"text-align: right;\">           2</td><td style=\"text-align: right;\">           9</td><td style=\"text-align: right;\">           1</td><td style=\"text-align: right;\">          11</td><td style=\"text-align: right;\">           3</td><td style=\"text-align: right;\">           5</td><td style=\"text-align: right;\">           0</td><td style=\"text-align: right;\">           6</td><td style=\"text-align: right;\">               0</td><td style=\"text-align: right;\">               1</td><td style=\"text-align: right;\">               0</td><td style=\"text-align: right;\">               0</td><td style=\"text-align: right;\">               1</td><td style=\"text-align: right;\">               0</td></tr>\n",
       "</tbody>\n",
       "</table>"
      ]
     },
     "metadata": {},
     "output_type": "display_data"
    },
    {
     "data": {
      "text/plain": []
     },
     "execution_count": 3,
     "metadata": {},
     "output_type": "execute_result"
    }
   ],
   "source": [
    "X_train.head()"
   ]
  },
  {
   "cell_type": "markdown",
   "metadata": {},
   "source": [
    "## Treinamento"
   ]
  },
  {
   "cell_type": "code",
   "execution_count": null,
   "metadata": {},
   "outputs": [
    {
     "name": "stdout",
     "output_type": "stream",
     "text": [
      "AutoML progress: |█████████████████████████████████████████████████"
     ]
    }
   ],
   "source": [
    "start_time = timer(None)\n",
    "\n",
    "x = X_train.columns\n",
    "y = \"target\"\n",
    "\n",
    "X_train[y] = X_train[y].asfactor()\n",
    "\n",
    "# (limited to 1 hour max runtime by default)\n",
    "aml = H2OAutoML()\n",
    "aml.train(x=x, y=y, training_frame=X_train)\n",
    "time = timer(start_time)\n",
    "\n"
   ]
  },
  {
   "cell_type": "code",
   "execution_count": null,
   "metadata": {},
   "outputs": [],
   "source": [
    "print(time)\n"
   ]
  },
  {
   "cell_type": "code",
   "execution_count": null,
   "metadata": {},
   "outputs": [],
   "source": [
    "# View the AutoML Leaderboard\n",
    "lb = aml.leaderboard\n",
    "lb.head(rows=lb.nrows)  # Print all rows instead of default (10 rows)\n"
   ]
  },
  {
   "cell_type": "code",
   "execution_count": null,
   "metadata": {},
   "outputs": [],
   "source": [
    "# The leader model is stored here\n",
    "aml.leader"
   ]
  },
  {
   "cell_type": "code",
   "execution_count": null,
   "metadata": {},
   "outputs": [],
   "source": [
    "preds = aml.leader.predict(X_test)\n",
    "print(preds)\n",
    "\n"
   ]
  },
  {
   "cell_type": "code",
   "execution_count": null,
   "metadata": {},
   "outputs": [],
   "source": [
    "h2o.save_model(aml.leader, path = \"Porto_seguro_h2o\")"
   ]
  },
  {
   "cell_type": "code",
   "execution_count": null,
   "metadata": {},
   "outputs": [],
   "source": [
    "print(time)\n",
    "preds = list(preds['predict'])\n",
    "id_test = X_test[\"id\"]"
   ]
  },
  {
   "cell_type": "code",
   "execution_count": null,
   "metadata": {},
   "outputs": [],
   "source": [
    "submission = pd.DataFrame({\n",
    "        \"id\": id_test,\n",
    "        \"target\": preds\n",
    "    })\n",
    "\n",
    "submission.to_csv(\"../submit_files/porto_seguro_h2o_submission.csv\", index=False)"
   ]
  },
  {
   "cell_type": "code",
   "execution_count": null,
   "metadata": {},
   "outputs": [],
   "source": []
  }
 ],
 "metadata": {
  "kernelspec": {
   "display_name": "Python 3",
   "language": "python",
   "name": "python3"
  },
  "language_info": {
   "codemirror_mode": {
    "name": "ipython",
    "version": 3
   },
   "file_extension": ".py",
   "mimetype": "text/x-python",
   "name": "python",
   "nbconvert_exporter": "python",
   "pygments_lexer": "ipython3",
   "version": "3.7.4"
  }
 },
 "nbformat": 4,
 "nbformat_minor": 2
}

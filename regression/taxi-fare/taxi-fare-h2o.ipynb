{
 "cells": [
  {
   "cell_type": "code",
   "execution_count": 1,
   "metadata": {},
   "outputs": [],
   "source": [
    "#!pip install h2o\n",
    "import pandas as pd\n",
    "import h2o\n",
    "from h2o.automl import H2OAutoML\n",
    "from benchmark_utils import timer\n"
   ]
  },
  {
   "cell_type": "code",
   "execution_count": 2,
   "metadata": {},
   "outputs": [
    {
     "name": "stdout",
     "output_type": "stream",
     "text": [
      "Checking whether there is an H2O instance running at http://localhost:54321 ..... not found.\n",
      "Attempting to start a local H2O server...\n",
      "  Java Version: openjdk version \"1.8.0_152-release\"; OpenJDK Runtime Environment (build 1.8.0_152-release-1056-b12); OpenJDK 64-Bit Server VM (build 25.152-b12, mixed mode)\n",
      "  Starting server from /home/midas/anaconda3/envs/automl-3.7/lib/python3.7/site-packages/h2o/backend/bin/h2o.jar\n",
      "  Ice root: /home/midas/disk2/sette/git/automl-notebooks-benchmark/regression/taxi-fare/tmpipy6d607\n",
      "  JVM stdout: /home/midas/disk2/sette/git/automl-notebooks-benchmark/regression/taxi-fare/tmpipy6d607/h2o_midas_started_from_python.out\n",
      "  JVM stderr: /home/midas/disk2/sette/git/automl-notebooks-benchmark/regression/taxi-fare/tmpipy6d607/h2o_midas_started_from_python.err\n",
      "  Server is running at http://127.0.0.1:54321\n",
      "Connecting to H2O server at http://127.0.0.1:54321 ... successful.\n"
     ]
    },
    {
     "data": {
      "text/html": [
       "<div style=\"overflow:auto\"><table style=\"width:50%\"><tr><td>H2O cluster uptime:</td>\n",
       "<td>00 secs</td></tr>\n",
       "<tr><td>H2O cluster timezone:</td>\n",
       "<td>America/Sao_Paulo</td></tr>\n",
       "<tr><td>H2O data parsing timezone:</td>\n",
       "<td>UTC</td></tr>\n",
       "<tr><td>H2O cluster version:</td>\n",
       "<td>3.26.0.5</td></tr>\n",
       "<tr><td>H2O cluster version age:</td>\n",
       "<td>1 month and 25 days </td></tr>\n",
       "<tr><td>H2O cluster name:</td>\n",
       "<td>H2O_from_python_midas_dni6gj</td></tr>\n",
       "<tr><td>H2O cluster total nodes:</td>\n",
       "<td>1</td></tr>\n",
       "<tr><td>H2O cluster free memory:</td>\n",
       "<td>26.67 Gb</td></tr>\n",
       "<tr><td>H2O cluster total cores:</td>\n",
       "<td>20</td></tr>\n",
       "<tr><td>H2O cluster allowed cores:</td>\n",
       "<td>20</td></tr>\n",
       "<tr><td>H2O cluster status:</td>\n",
       "<td>accepting new members, healthy</td></tr>\n",
       "<tr><td>H2O connection url:</td>\n",
       "<td>http://127.0.0.1:54321</td></tr>\n",
       "<tr><td>H2O connection proxy:</td>\n",
       "<td>None</td></tr>\n",
       "<tr><td>H2O internal security:</td>\n",
       "<td>False</td></tr>\n",
       "<tr><td>H2O API Extensions:</td>\n",
       "<td>Amazon S3, Algos, AutoML, Core V3, TargetEncoder, Core V4</td></tr>\n",
       "<tr><td>Python version:</td>\n",
       "<td>3.7.4 final</td></tr></table></div>"
      ],
      "text/plain": [
       "--------------------------  ---------------------------------------------------------\n",
       "H2O cluster uptime:         00 secs\n",
       "H2O cluster timezone:       America/Sao_Paulo\n",
       "H2O data parsing timezone:  UTC\n",
       "H2O cluster version:        3.26.0.5\n",
       "H2O cluster version age:    1 month and 25 days\n",
       "H2O cluster name:           H2O_from_python_midas_dni6gj\n",
       "H2O cluster total nodes:    1\n",
       "H2O cluster free memory:    26.67 Gb\n",
       "H2O cluster total cores:    20\n",
       "H2O cluster allowed cores:  20\n",
       "H2O cluster status:         accepting new members, healthy\n",
       "H2O connection url:         http://127.0.0.1:54321\n",
       "H2O connection proxy:\n",
       "H2O internal security:      False\n",
       "H2O API Extensions:         Amazon S3, Algos, AutoML, Core V3, TargetEncoder, Core V4\n",
       "Python version:             3.7.4 final\n",
       "--------------------------  ---------------------------------------------------------"
      ]
     },
     "metadata": {},
     "output_type": "display_data"
    },
    {
     "name": "stdout",
     "output_type": "stream",
     "text": [
      "Parse progress: |█████████████████████████████████████████████████████████| 100%\n",
      "Parse progress: |█████████████████████████████████████████████████████████| 100%\n"
     ]
    }
   ],
   "source": [
    "h2o.init()\n",
    "X_train = h2o.import_file('../datasets/taxi-fare/train.csv',header=1)\n",
    "X_test = h2o.import_file('../datasets/taxi-fare/test.csv',header=1)"
   ]
  },
  {
   "cell_type": "code",
   "execution_count": 3,
   "metadata": {},
   "outputs": [
    {
     "data": {
      "text/html": [
       "<table>\n",
       "<thead>\n",
       "<tr><th>key                </th><th style=\"text-align: right;\">  fare_amount</th><th>pickup_datetime        </th><th style=\"text-align: right;\">  pickup_longitude</th><th style=\"text-align: right;\">  pickup_latitude</th><th style=\"text-align: right;\">  dropoff_longitude</th><th style=\"text-align: right;\">  dropoff_latitude</th><th style=\"text-align: right;\">  passenger_count</th></tr>\n",
       "</thead>\n",
       "<tbody>\n",
       "<tr><td>2009-06-15 17:26:21</td><td style=\"text-align: right;\">          4.5</td><td>2009-06-15 17:26:21 UTC</td><td style=\"text-align: right;\">          -73.8443</td><td style=\"text-align: right;\">          40.7213</td><td style=\"text-align: right;\">           -73.8416</td><td style=\"text-align: right;\">           40.7123</td><td style=\"text-align: right;\">                1</td></tr>\n",
       "<tr><td>2010-01-05 16:52:16</td><td style=\"text-align: right;\">         16.9</td><td>2010-01-05 16:52:16 UTC</td><td style=\"text-align: right;\">          -74.016 </td><td style=\"text-align: right;\">          40.7113</td><td style=\"text-align: right;\">           -73.9793</td><td style=\"text-align: right;\">           40.782 </td><td style=\"text-align: right;\">                1</td></tr>\n",
       "<tr><td>2011-08-18 00:35:00</td><td style=\"text-align: right;\">          5.7</td><td>2011-08-18 00:35:00 UTC</td><td style=\"text-align: right;\">          -73.9827</td><td style=\"text-align: right;\">          40.7613</td><td style=\"text-align: right;\">           -73.9912</td><td style=\"text-align: right;\">           40.7506</td><td style=\"text-align: right;\">                2</td></tr>\n",
       "<tr><td>2012-04-21 04:30:42</td><td style=\"text-align: right;\">          7.7</td><td>2012-04-21 04:30:42 UTC</td><td style=\"text-align: right;\">          -73.9871</td><td style=\"text-align: right;\">          40.7331</td><td style=\"text-align: right;\">           -73.9916</td><td style=\"text-align: right;\">           40.7581</td><td style=\"text-align: right;\">                1</td></tr>\n",
       "<tr><td>2010-03-09 07:51:00</td><td style=\"text-align: right;\">          5.3</td><td>2010-03-09 07:51:00 UTC</td><td style=\"text-align: right;\">          -73.9681</td><td style=\"text-align: right;\">          40.768 </td><td style=\"text-align: right;\">           -73.9567</td><td style=\"text-align: right;\">           40.7838</td><td style=\"text-align: right;\">                1</td></tr>\n",
       "<tr><td>2011-01-06 09:50:45</td><td style=\"text-align: right;\">         12.1</td><td>2011-01-06 09:50:45 UTC</td><td style=\"text-align: right;\">          -74.001 </td><td style=\"text-align: right;\">          40.7316</td><td style=\"text-align: right;\">           -73.9729</td><td style=\"text-align: right;\">           40.7582</td><td style=\"text-align: right;\">                1</td></tr>\n",
       "<tr><td>2012-11-20 20:35:00</td><td style=\"text-align: right;\">          7.5</td><td>2012-11-20 20:35:00 UTC</td><td style=\"text-align: right;\">          -73.98  </td><td style=\"text-align: right;\">          40.7517</td><td style=\"text-align: right;\">           -73.9738</td><td style=\"text-align: right;\">           40.7648</td><td style=\"text-align: right;\">                1</td></tr>\n",
       "<tr><td>2012-01-04 17:22:00</td><td style=\"text-align: right;\">         16.5</td><td>2012-01-04 17:22:00 UTC</td><td style=\"text-align: right;\">          -73.9513</td><td style=\"text-align: right;\">          40.7741</td><td style=\"text-align: right;\">           -73.9901</td><td style=\"text-align: right;\">           40.751 </td><td style=\"text-align: right;\">                1</td></tr>\n",
       "<tr><td>2012-12-03 13:10:00</td><td style=\"text-align: right;\">          9  </td><td>2012-12-03 13:10:00 UTC</td><td style=\"text-align: right;\">          -74.0065</td><td style=\"text-align: right;\">          40.7267</td><td style=\"text-align: right;\">           -73.9931</td><td style=\"text-align: right;\">           40.7316</td><td style=\"text-align: right;\">                1</td></tr>\n",
       "<tr><td>2009-09-02 01:11:00</td><td style=\"text-align: right;\">          8.9</td><td>2009-09-02 01:11:00 UTC</td><td style=\"text-align: right;\">          -73.9807</td><td style=\"text-align: right;\">          40.7339</td><td style=\"text-align: right;\">           -73.9915</td><td style=\"text-align: right;\">           40.7581</td><td style=\"text-align: right;\">                2</td></tr>\n",
       "</tbody>\n",
       "</table>"
      ]
     },
     "metadata": {},
     "output_type": "display_data"
    },
    {
     "data": {
      "text/plain": []
     },
     "execution_count": 3,
     "metadata": {},
     "output_type": "execute_result"
    }
   ],
   "source": [
    "X_train.head()"
   ]
  },
  {
   "cell_type": "code",
   "execution_count": 4,
   "metadata": {},
   "outputs": [
    {
     "data": {
      "text/html": [
       "<table>\n",
       "<thead>\n",
       "<tr><th>key                </th><th>pickup_datetime        </th><th style=\"text-align: right;\">  pickup_longitude</th><th style=\"text-align: right;\">  pickup_latitude</th><th style=\"text-align: right;\">  dropoff_longitude</th><th style=\"text-align: right;\">  dropoff_latitude</th><th style=\"text-align: right;\">  passenger_count</th></tr>\n",
       "</thead>\n",
       "<tbody>\n",
       "<tr><td>2015-01-27 13:08:24</td><td>2015-01-27 13:08:24 UTC</td><td style=\"text-align: right;\">          -73.9733</td><td style=\"text-align: right;\">          40.7638</td><td style=\"text-align: right;\">           -73.9814</td><td style=\"text-align: right;\">           40.7438</td><td style=\"text-align: right;\">                1</td></tr>\n",
       "<tr><td>2015-01-27 13:08:24</td><td>2015-01-27 13:08:24 UTC</td><td style=\"text-align: right;\">          -73.9869</td><td style=\"text-align: right;\">          40.7194</td><td style=\"text-align: right;\">           -73.9989</td><td style=\"text-align: right;\">           40.7392</td><td style=\"text-align: right;\">                1</td></tr>\n",
       "<tr><td>2011-10-08 11:53:44</td><td>2011-10-08 11:53:44 UTC</td><td style=\"text-align: right;\">          -73.9825</td><td style=\"text-align: right;\">          40.7513</td><td style=\"text-align: right;\">           -73.9797</td><td style=\"text-align: right;\">           40.7461</td><td style=\"text-align: right;\">                1</td></tr>\n",
       "<tr><td>2012-12-01 21:12:12</td><td>2012-12-01 21:12:12 UTC</td><td style=\"text-align: right;\">          -73.9812</td><td style=\"text-align: right;\">          40.7678</td><td style=\"text-align: right;\">           -73.9904</td><td style=\"text-align: right;\">           40.7516</td><td style=\"text-align: right;\">                1</td></tr>\n",
       "<tr><td>2012-12-01 21:12:12</td><td>2012-12-01 21:12:12 UTC</td><td style=\"text-align: right;\">          -73.966 </td><td style=\"text-align: right;\">          40.7898</td><td style=\"text-align: right;\">           -73.9886</td><td style=\"text-align: right;\">           40.7444</td><td style=\"text-align: right;\">                1</td></tr>\n",
       "<tr><td>2012-12-01 21:12:12</td><td>2012-12-01 21:12:12 UTC</td><td style=\"text-align: right;\">          -73.961 </td><td style=\"text-align: right;\">          40.7655</td><td style=\"text-align: right;\">           -73.9792</td><td style=\"text-align: right;\">           40.7401</td><td style=\"text-align: right;\">                1</td></tr>\n",
       "<tr><td>2011-10-06 12:10:20</td><td>2011-10-06 12:10:20 UTC</td><td style=\"text-align: right;\">          -73.949 </td><td style=\"text-align: right;\">          40.7732</td><td style=\"text-align: right;\">           -73.9596</td><td style=\"text-align: right;\">           40.7709</td><td style=\"text-align: right;\">                1</td></tr>\n",
       "<tr><td>2011-10-06 12:10:20</td><td>2011-10-06 12:10:20 UTC</td><td style=\"text-align: right;\">          -73.7773</td><td style=\"text-align: right;\">          40.6466</td><td style=\"text-align: right;\">           -73.9851</td><td style=\"text-align: right;\">           40.7594</td><td style=\"text-align: right;\">                1</td></tr>\n",
       "<tr><td>2011-10-06 12:10:20</td><td>2011-10-06 12:10:20 UTC</td><td style=\"text-align: right;\">          -74.0141</td><td style=\"text-align: right;\">          40.7096</td><td style=\"text-align: right;\">           -73.9951</td><td style=\"text-align: right;\">           40.7414</td><td style=\"text-align: right;\">                1</td></tr>\n",
       "<tr><td>2014-02-18 15:22:20</td><td>2014-02-18 15:22:20 UTC</td><td style=\"text-align: right;\">          -73.9696</td><td style=\"text-align: right;\">          40.7655</td><td style=\"text-align: right;\">           -73.9807</td><td style=\"text-align: right;\">           40.7707</td><td style=\"text-align: right;\">                1</td></tr>\n",
       "</tbody>\n",
       "</table>"
      ]
     },
     "metadata": {},
     "output_type": "display_data"
    },
    {
     "data": {
      "text/plain": []
     },
     "execution_count": 4,
     "metadata": {},
     "output_type": "execute_result"
    }
   ],
   "source": [
    "X_test.head()"
   ]
  },
  {
   "cell_type": "markdown",
   "metadata": {},
   "source": [
    "## Treinamento"
   ]
  },
  {
   "cell_type": "code",
   "execution_count": 5,
   "metadata": {},
   "outputs": [
    {
     "name": "stdout",
     "output_type": "stream",
     "text": [
      "AutoML progress: |████████████████████████████████████████████████████████| 100%\n"
     ]
    }
   ],
   "source": [
    "start_time = timer(None)\n",
    "\n",
    "x = X_train.columns\n",
    "y = \"fare_amount\"\n",
    "\n",
    "\n",
    "# (limited to 1 hour max runtime by default)\n",
    "aml = H2OAutoML()\n",
    "aml.train(x=x, y=y, training_frame=X_train)\n",
    "time = timer(start_time)\n",
    "\n"
   ]
  },
  {
   "cell_type": "code",
   "execution_count": 6,
   "metadata": {},
   "outputs": [
    {
     "name": "stdout",
     "output_type": "stream",
     "text": [
      "\n",
      " Time taken: 1 hours 2 minutes and 52.6 seconds.\n"
     ]
    }
   ],
   "source": [
    "print(time)\n"
   ]
  },
  {
   "cell_type": "code",
   "execution_count": 7,
   "metadata": {},
   "outputs": [
    {
     "data": {
      "text/html": [
       "<table>\n",
       "<thead>\n",
       "<tr><th>model_id                                           </th><th style=\"text-align: right;\">  mean_residual_deviance</th><th style=\"text-align: right;\">   rmse</th><th style=\"text-align: right;\">    mse</th><th style=\"text-align: right;\">    mae</th><th style=\"text-align: right;\">  rmsle</th></tr>\n",
       "</thead>\n",
       "<tbody>\n",
       "<tr><td>StackedEnsemble_BestOfFamily_AutoML_20191111_121217</td><td style=\"text-align: right;\">                 423.814</td><td style=\"text-align: right;\">20.5868</td><td style=\"text-align: right;\">423.814</td><td style=\"text-align: right;\">5.89212</td><td style=\"text-align: right;\">    nan</td></tr>\n",
       "<tr><td>StackedEnsemble_AllModels_AutoML_20191111_121217   </td><td style=\"text-align: right;\">                 423.814</td><td style=\"text-align: right;\">20.5868</td><td style=\"text-align: right;\">423.814</td><td style=\"text-align: right;\">5.89212</td><td style=\"text-align: right;\">    nan</td></tr>\n",
       "<tr><td>DRF_1_AutoML_20191111_121217                       </td><td style=\"text-align: right;\">                 425.329</td><td style=\"text-align: right;\">20.6235</td><td style=\"text-align: right;\">425.329</td><td style=\"text-align: right;\">5.91743</td><td style=\"text-align: right;\">    nan</td></tr>\n",
       "<tr><td>GBM_1_AutoML_20191111_121217                       </td><td style=\"text-align: right;\">                 426.249</td><td style=\"text-align: right;\">20.6458</td><td style=\"text-align: right;\">426.249</td><td style=\"text-align: right;\">5.93728</td><td style=\"text-align: right;\">    nan</td></tr>\n",
       "<tr><td>GLM_grid_1_AutoML_20191111_121217_model_1          </td><td style=\"text-align: right;\">                 427.526</td><td style=\"text-align: right;\">20.6767</td><td style=\"text-align: right;\">427.526</td><td style=\"text-align: right;\">5.96896</td><td style=\"text-align: right;\">    nan</td></tr>\n",
       "</tbody>\n",
       "</table>"
      ]
     },
     "metadata": {},
     "output_type": "display_data"
    },
    {
     "data": {
      "text/plain": []
     },
     "execution_count": 7,
     "metadata": {},
     "output_type": "execute_result"
    }
   ],
   "source": [
    "# View the AutoML Leaderboard\n",
    "lb = aml.leaderboard\n",
    "lb.head(rows=lb.nrows)  # Print all rows instead of default (10 rows)\n"
   ]
  },
  {
   "cell_type": "code",
   "execution_count": 8,
   "metadata": {},
   "outputs": [
    {
     "name": "stdout",
     "output_type": "stream",
     "text": [
      "Model Details\n",
      "=============\n",
      "H2OStackedEnsembleEstimator :  Stacked Ensemble\n",
      "Model Key:  StackedEnsemble_BestOfFamily_AutoML_20191111_121217\n",
      "\n",
      "No model summary for this model\n",
      "\n",
      "ModelMetricsRegressionGLM: stackedensemble\n",
      "** Reported on train data. **\n",
      "\n",
      "MSE: 423.5143128335753\n",
      "RMSE: 20.579463375743675\n",
      "MAE: 5.887235573661244\n",
      "RMSLE: NaN\n",
      "R^2: 0.012645766398249547\n",
      "Mean Residual Deviance: 423.5143128335753\n",
      "Null degrees of freedom: 55423855\n",
      "Residual degrees of freedom: 55423854\n",
      "Null deviance: 23773429524.649094\n",
      "Residual deviance: 23472796288.42703\n",
      "AIC: 492522127.95047736\n",
      "\n",
      "ModelMetricsRegressionGLM: stackedensemble\n",
      "** Reported on cross-validation data. **\n",
      "\n",
      "MSE: 423.8144811866912\n",
      "RMSE: 20.58675499409004\n",
      "MAE: 5.892121206080109\n",
      "RMSLE: NaN\n",
      "R^2: 0.011945973060777604\n",
      "Mean Residual Deviance: 423.8144811866912\n",
      "Null degrees of freedom: 55423855\n",
      "Residual degrees of freedom: 55423854\n",
      "Null deviance: 23773430361.528778\n",
      "Residual deviance: 23489432776.005882\n",
      "AIC: 492561396.0324597\n"
     ]
    },
    {
     "data": {
      "text/plain": []
     },
     "execution_count": 8,
     "metadata": {},
     "output_type": "execute_result"
    }
   ],
   "source": [
    "# The leader model is stored here\n",
    "aml.leader"
   ]
  },
  {
   "cell_type": "code",
   "execution_count": 14,
   "metadata": {},
   "outputs": [
    {
     "name": "stdout",
     "output_type": "stream",
     "text": [
      "stackedensemble prediction progress: |████████████████████████████████████| 100%\n"
     ]
    },
    {
     "data": {
      "text/html": [
       "<table>\n",
       "<thead>\n",
       "<tr><th style=\"text-align: right;\">  predict</th></tr>\n",
       "</thead>\n",
       "<tbody>\n",
       "<tr><td style=\"text-align: right;\"> 13.2564 </td></tr>\n",
       "<tr><td style=\"text-align: right;\"> 13.2397 </td></tr>\n",
       "<tr><td style=\"text-align: right;\">  9.74985</td></tr>\n",
       "<tr><td style=\"text-align: right;\"> 13.236  </td></tr>\n",
       "<tr><td style=\"text-align: right;\"> 13.236  </td></tr>\n",
       "<tr><td style=\"text-align: right;\"> 13.236  </td></tr>\n",
       "<tr><td style=\"text-align: right;\">  9.74985</td></tr>\n",
       "<tr><td style=\"text-align: right;\">  9.74985</td></tr>\n",
       "<tr><td style=\"text-align: right;\">  9.74985</td></tr>\n",
       "<tr><td style=\"text-align: right;\"> 13.2061 </td></tr>\n",
       "</tbody>\n",
       "</table>"
      ]
     },
     "metadata": {},
     "output_type": "display_data"
    },
    {
     "name": "stdout",
     "output_type": "stream",
     "text": [
      "\n"
     ]
    }
   ],
   "source": [
    "preds = aml.leader.predict(X_test)\n",
    "print(preds)\n",
    "\n",
    "\n"
   ]
  },
  {
   "cell_type": "code",
   "execution_count": 16,
   "metadata": {},
   "outputs": [
    {
     "data": {
      "text/plain": [
       "'/home/midas/disk2/sette/git/automl-notebooks-benchmark/regression/taxi-fare/Taxi_fare_h2o/StackedEnsemble_BestOfFamily_AutoML_20191111_121217'"
      ]
     },
     "execution_count": 16,
     "metadata": {},
     "output_type": "execute_result"
    }
   ],
   "source": [
    "h2o.save_model(aml.leader, path = \"Taxi_fare_h2o\")"
   ]
  },
  {
   "cell_type": "code",
   "execution_count": 25,
   "metadata": {},
   "outputs": [
    {
     "name": "stdout",
     "output_type": "stream",
     "text": [
      "\n",
      " Time taken: 1 hours 2 minutes and 52.6 seconds.\n",
      "0       2015-01-27 13:08:24.0000002\n",
      "1       2015-01-27 13:08:24.0000003\n",
      "2       2011-10-08 11:53:44.0000002\n",
      "3       2012-12-01 21:12:12.0000002\n",
      "4       2012-12-01 21:12:12.0000003\n",
      "                   ...             \n",
      "9909    2015-05-10 12:37:51.0000002\n",
      "9910    2015-01-12 17:05:51.0000001\n",
      "9911    2015-04-19 20:44:15.0000001\n",
      "9912    2015-01-31 01:05:19.0000005\n",
      "9913    2015-01-18 14:06:23.0000006\n",
      "Name: key, Length: 9914, dtype: object\n"
     ]
    },
    {
     "data": {
      "text/html": [
       "<table>\n",
       "<thead>\n",
       "<tr><th style=\"text-align: right;\">  predict</th></tr>\n",
       "</thead>\n",
       "<tbody>\n",
       "<tr><td style=\"text-align: right;\"> 13.2564 </td></tr>\n",
       "<tr><td style=\"text-align: right;\"> 13.2397 </td></tr>\n",
       "<tr><td style=\"text-align: right;\">  9.74985</td></tr>\n",
       "<tr><td style=\"text-align: right;\"> 13.236  </td></tr>\n",
       "<tr><td style=\"text-align: right;\"> 13.236  </td></tr>\n",
       "<tr><td style=\"text-align: right;\"> 13.236  </td></tr>\n",
       "<tr><td style=\"text-align: right;\">  9.74985</td></tr>\n",
       "<tr><td style=\"text-align: right;\">  9.74985</td></tr>\n",
       "<tr><td style=\"text-align: right;\">  9.74985</td></tr>\n",
       "<tr><td style=\"text-align: right;\"> 13.2061 </td></tr>\n",
       "</tbody>\n",
       "</table>"
      ]
     },
     "metadata": {},
     "output_type": "display_data"
    },
    {
     "name": "stdout",
     "output_type": "stream",
     "text": [
      "\n"
     ]
    }
   ],
   "source": [
    "print(time)\n",
    "id_test = pd.read_csv(\"../datasets/taxi-fare/test.csv\")['key']\n",
    "print(id_test)\n",
    "preds_final = preds.as_data_frame()[\"predict\"]\n",
    "\n",
    "print(preds)"
   ]
  },
  {
   "cell_type": "code",
   "execution_count": 26,
   "metadata": {},
   "outputs": [],
   "source": [
    "submission = pd.DataFrame({\n",
    "        \"key\": id_test,\n",
    "        \"fare_amount\": preds_final\n",
    "    })\n",
    "\n",
    "submission.to_csv(\"../submit_files/taxi_fare_h2o_submission.csv\", index=False)"
   ]
  },
  {
   "cell_type": "code",
   "execution_count": null,
   "metadata": {},
   "outputs": [],
   "source": []
  },
  {
   "cell_type": "code",
   "execution_count": null,
   "metadata": {},
   "outputs": [],
   "source": []
  }
 ],
 "metadata": {
  "kernelspec": {
   "display_name": "Python 3",
   "language": "python",
   "name": "python3"
  },
  "language_info": {
   "codemirror_mode": {
    "name": "ipython",
    "version": 3
   },
   "file_extension": ".py",
   "mimetype": "text/x-python",
   "name": "python",
   "nbconvert_exporter": "python",
   "pygments_lexer": "ipython3",
   "version": "3.7.4"
  }
 },
 "nbformat": 4,
 "nbformat_minor": 2
}
